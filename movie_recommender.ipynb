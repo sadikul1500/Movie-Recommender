{
  "nbformat": 4,
  "nbformat_minor": 0,
  "metadata": {
    "colab": {
      "name": "movie_recommender.ipynb",
      "provenance": [],
      "collapsed_sections": [],
      "authorship_tag": "ABX9TyMk5jEk+ae3ecnJ96FaQkLG",
      "include_colab_link": true
    },
    "kernelspec": {
      "display_name": "Python 3",
      "name": "python3"
    }
  },
  "cells": [
    {
      "cell_type": "markdown",
      "metadata": {
        "id": "view-in-github",
        "colab_type": "text"
      },
      "source": [
        "<a href=\"https://colab.research.google.com/github/sadikul1500/Movie-Recommender/blob/main/movie_recommender.ipynb\" target=\"_parent\"><img src=\"https://colab.research.google.com/assets/colab-badge.svg\" alt=\"Open In Colab\"/></a>"
      ]
    },
    {
      "cell_type": "code",
      "metadata": {
        "id": "2T-ax3Ge4vqu"
      },
      "source": [
        "from google.colab import files"
      ],
      "execution_count": null,
      "outputs": []
    },
    {
      "cell_type": "code",
      "metadata": {
        "id": "X2swq-YN8GNn"
      },
      "source": [
        "import pandas as pd"
      ],
      "execution_count": null,
      "outputs": []
    },
    {
      "cell_type": "code",
      "metadata": {
        "id": "mS4VhzXa6VAi",
        "colab": {
          "resources": {
            "http://localhost:8080/nbextensions/google.colab/files.js": {
              "data": "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",
              "ok": true,
              "headers": [
                [
                  "content-type",
                  "application/javascript"
                ]
              ],
              "status": 200,
              "status_text": ""
            }
          },
          "base_uri": "https://localhost:8080/",
          "height": 90
        },
        "outputId": "99137e03-e3ca-4506-f118-5bdb739cb7a1"
      },
      "source": [
        "print('select movies data file')\n",
        "uploaded = files.upload()"
      ],
      "execution_count": null,
      "outputs": [
        {
          "output_type": "stream",
          "text": [
            "select movies data file\n"
          ],
          "name": "stdout"
        },
        {
          "output_type": "display_data",
          "data": {
            "text/html": [
              "\n",
              "     <input type=\"file\" id=\"files-20ca89ba-ed1d-4913-95c7-0b8e6530dc7c\" name=\"files[]\" multiple disabled\n",
              "        style=\"border:none\" />\n",
              "     <output id=\"result-20ca89ba-ed1d-4913-95c7-0b8e6530dc7c\">\n",
              "      Upload widget is only available when the cell has been executed in the\n",
              "      current browser session. Please rerun this cell to enable.\n",
              "      </output>\n",
              "      <script src=\"/nbextensions/google.colab/files.js\"></script> "
            ],
            "text/plain": [
              "<IPython.core.display.HTML object>"
            ]
          },
          "metadata": {
            "tags": []
          }
        },
        {
          "output_type": "stream",
          "text": [
            "Saving movies.csv to movies.csv\n"
          ],
          "name": "stdout"
        }
      ]
    },
    {
      "cell_type": "code",
      "metadata": {
        "colab": {
          "base_uri": "https://localhost:8080/"
        },
        "id": "3Kn9rmgj65m7",
        "outputId": "ccf51b22-f3a7-4a06-fc1e-747998f2cc10"
      },
      "source": [
        "for f in uploaded.keys():\n",
        "  movies = pd.read_csv(f, usecols=['movieId', 'title'], dtype={'title':'str'})\n",
        "  print(movies.head())\n"
      ],
      "execution_count": null,
      "outputs": [
        {
          "output_type": "stream",
          "text": [
            "   movieId                               title\n",
            "0        1                    Toy Story (1995)\n",
            "1        2                      Jumanji (1995)\n",
            "2        3             Grumpier Old Men (1995)\n",
            "3        4            Waiting to Exhale (1995)\n",
            "4        5  Father of the Bride Part II (1995)\n"
          ],
          "name": "stdout"
        }
      ]
    },
    {
      "cell_type": "code",
      "metadata": {
        "colab": {
          "base_uri": "https://localhost:8080/"
        },
        "id": "cCI7vWyz8zL7",
        "outputId": "875b2c5d-add1-44aa-d082-e407f03a6f0d"
      },
      "source": [
        "print(movies.info())"
      ],
      "execution_count": null,
      "outputs": [
        {
          "output_type": "stream",
          "text": [
            "<class 'pandas.core.frame.DataFrame'>\n",
            "RangeIndex: 9742 entries, 0 to 9741\n",
            "Data columns (total 2 columns):\n",
            " #   Column   Non-Null Count  Dtype \n",
            "---  ------   --------------  ----- \n",
            " 0   movieId  9742 non-null   int64 \n",
            " 1   title    9742 non-null   object\n",
            "dtypes: int64(1), object(1)\n",
            "memory usage: 152.3+ KB\n",
            "None\n"
          ],
          "name": "stdout"
        }
      ]
    },
    {
      "cell_type": "code",
      "metadata": {
        "colab": {
          "resources": {
            "http://localhost:8080/nbextensions/google.colab/files.js": {
              "data": "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",
              "ok": true,
              "headers": [
                [
                  "content-type",
                  "application/javascript"
                ]
              ],
              "status": 200,
              "status_text": ""
            }
          },
          "base_uri": "https://localhost:8080/",
          "height": 90
        },
        "id": "_OXuBUJm-ZBZ",
        "outputId": "66849bf3-e620-49c1-faa7-465d7a440f30"
      },
      "source": [
        "print('select user ratings data file')\n",
        "uploaded = files.upload()"
      ],
      "execution_count": null,
      "outputs": [
        {
          "output_type": "stream",
          "text": [
            "select user ratings data file\n"
          ],
          "name": "stdout"
        },
        {
          "output_type": "display_data",
          "data": {
            "text/html": [
              "\n",
              "     <input type=\"file\" id=\"files-6e514983-989a-431b-8f17-7cf77b0ceb8e\" name=\"files[]\" multiple disabled\n",
              "        style=\"border:none\" />\n",
              "     <output id=\"result-6e514983-989a-431b-8f17-7cf77b0ceb8e\">\n",
              "      Upload widget is only available when the cell has been executed in the\n",
              "      current browser session. Please rerun this cell to enable.\n",
              "      </output>\n",
              "      <script src=\"/nbextensions/google.colab/files.js\"></script> "
            ],
            "text/plain": [
              "<IPython.core.display.HTML object>"
            ]
          },
          "metadata": {
            "tags": []
          }
        },
        {
          "output_type": "stream",
          "text": [
            "Saving ratings.csv to ratings.csv\n"
          ],
          "name": "stdout"
        }
      ]
    },
    {
      "cell_type": "code",
      "metadata": {
        "id": "CzDjsIGO-ghq"
      },
      "source": [
        "for f in uploaded.keys():\n",
        "  ratings = pd.read_csv(f, usecols=['userId', 'movieId', 'rating'])"
      ],
      "execution_count": null,
      "outputs": []
    },
    {
      "cell_type": "code",
      "metadata": {
        "colab": {
          "base_uri": "https://localhost:8080/"
        },
        "id": "otfsXRCN-5wU",
        "outputId": "2e9b80d3-52e4-4881-b95f-c00bdfabe41a"
      },
      "source": [
        "print(ratings.head())\n",
        "print(ratings.info())"
      ],
      "execution_count": null,
      "outputs": [
        {
          "output_type": "stream",
          "text": [
            "   userId  movieId  rating\n",
            "0       1        1     4.0\n",
            "1       1        3     4.0\n",
            "2       1        6     4.0\n",
            "3       1       47     5.0\n",
            "4       1       50     5.0\n",
            "<class 'pandas.core.frame.DataFrame'>\n",
            "RangeIndex: 100836 entries, 0 to 100835\n",
            "Data columns (total 3 columns):\n",
            " #   Column   Non-Null Count   Dtype  \n",
            "---  ------   --------------   -----  \n",
            " 0   userId   100836 non-null  int64  \n",
            " 1   movieId  100836 non-null  int64  \n",
            " 2   rating   100836 non-null  float64\n",
            "dtypes: float64(1), int64(2)\n",
            "memory usage: 2.3 MB\n",
            "None\n"
          ],
          "name": "stdout"
        }
      ]
    },
    {
      "cell_type": "code",
      "metadata": {
        "colab": {
          "base_uri": "https://localhost:8080/"
        },
        "id": "_SN8Vxqe0hz-",
        "outputId": "de08d939-babc-4abf-9386-c7ec43c83393"
      },
      "source": [
        "array_ratings = ratings.pivot(index='movieId', columns='userId', values='rating').fillna(1e-8)\n",
        "print(array_ratings.head())\n",
        "#print(array_ratings[0])"
      ],
      "execution_count": null,
      "outputs": [
        {
          "output_type": "stream",
          "text": [
            "userId            1             2    ...           609           610\n",
            "movieId                              ...                            \n",
            "1        4.000000e+00  1.000000e-08  ...  3.000000e+00  5.000000e+00\n",
            "2        1.000000e-08  1.000000e-08  ...  1.000000e-08  1.000000e-08\n",
            "3        4.000000e+00  1.000000e-08  ...  1.000000e-08  1.000000e-08\n",
            "4        1.000000e-08  1.000000e-08  ...  1.000000e-08  1.000000e-08\n",
            "5        1.000000e-08  1.000000e-08  ...  1.000000e-08  1.000000e-08\n",
            "\n",
            "[5 rows x 610 columns]\n"
          ],
          "name": "stdout"
        }
      ]
    },
    {
      "cell_type": "code",
      "metadata": {
        "colab": {
          "base_uri": "https://localhost:8080/"
        },
        "id": "lvPzxIgnzpR5",
        "outputId": "f5c9bf51-45e7-4d9d-a193-bc1deef9515b"
      },
      "source": [
        "print(type(array_ratings))\r\n",
        "array_ratings_np = array_ratings.to_numpy()\r\n",
        "print(len(array_ratings_np))"
      ],
      "execution_count": null,
      "outputs": [
        {
          "output_type": "stream",
          "text": [
            "<class 'pandas.core.frame.DataFrame'>\n",
            "9724\n"
          ],
          "name": "stdout"
        }
      ]
    },
    {
      "cell_type": "code",
      "metadata": {
        "colab": {
          "background_save": true
        },
        "id": "D6MJsf3xGxJ8"
      },
      "source": [
        "#don't need \n",
        "from scipy.sparse import csr_matrix\n",
        "matrix_ratings = csr_matrix(array_ratings.values)\n",
        "print(type(matrix_ratings))\n",
        "print(matrix_ratings) "
      ],
      "execution_count": null,
      "outputs": []
    },
    {
      "cell_type": "code",
      "metadata": {
        "colab": {
          "base_uri": "https://localhost:8080/"
        },
        "id": "pFQy_YUHzs2O",
        "outputId": "b0103139-04e7-4683-83c4-57ecf8970d1b"
      },
      "source": [
        "print(movies.loc[90]['title'])"
      ],
      "execution_count": null,
      "outputs": [
        {
          "output_type": "stream",
          "text": [
            "Mr. Wrong (1996)\n"
          ],
          "name": "stdout"
        }
      ]
    },
    {
      "cell_type": "code",
      "metadata": {
        "colab": {
          "background_save": true
        },
        "id": "xwp60377pSI8"
      },
      "source": [
        "#knn\r\n",
        "from random import shuffle\r\n",
        "\r\n",
        "def getDistance(test, train):\r\n",
        "    test = test[:len(test)-1]\r\n",
        "    distance = []\r\n",
        "\r\n",
        "    #j = 0\r\n",
        "    for training in train:\r\n",
        "        x = 0\r\n",
        "\r\n",
        "        for i in range(len(test)):\r\n",
        "            x += (float(test[i]) - float(training[i])) ** 2\r\n",
        "        #print(training)\r\n",
        "        distance.append([x ** .5, moviestraining[-1]])\r\n",
        "\r\n",
        "    return distance\r\n",
        "\r\n",
        "\r\n",
        "def getPrediction(distance, k):\r\n",
        "    output_values = [dist[-1] for dist in distance[:k]]\r\n",
        "    prediction = max(set(output_values), key=output_values.count)\r\n",
        "    return prediction\r\n",
        "\r\n",
        "\r\n",
        "def weightedKnn(distance, k):\r\n",
        "    output_values = [dist[-1] for dist in distance[:k]]\r\n",
        "    output_values = set(output_values)\r\n",
        "    output_values = list(output_values)\r\n",
        "\r\n",
        "    values = set(map(lambda x: x[1], distance))\r\n",
        "    new_list = [[y[0] for y in distance if y[1] == x] for x in values]\r\n",
        "\r\n",
        "    weight = []\r\n",
        "    myWeight = []\r\n",
        "\r\n",
        "    for i in range((len(output_values))):\r\n",
        "        sum = 0.0\r\n",
        "        wSum = 0.0\r\n",
        "        for j in new_list[i]:\r\n",
        "            sum += 1.0 / (j + 1e-10)\r\n",
        "            wSum += 1.0 / (j**2 + 1e-10)\r\n",
        "\r\n",
        "        weight.append(sum)\r\n",
        "        myWeight.append(len(new_list[i]) * sum)\r\n",
        "\r\n",
        "    index = weight.index(max(weight))\r\n",
        "    wIndex = myWeight.index(max(myWeight))\r\n",
        "\r\n",
        "    return output_values[index], output_values[wIndex]\r\n",
        "\r\n",
        "\r\n",
        "def writeInFile(List, wList, mList):\r\n",
        "    for list in List:\r\n",
        "        oFile.write(str(list) + ',')\r\n",
        "\r\n",
        "    oFile.write('\\n')\r\n",
        "\r\n",
        "    for list in wList:\r\n",
        "        woFile.write(str(list) + ',')\r\n",
        "\r\n",
        "    woFile.write('\\n')\r\n",
        "\r\n",
        "    for list in mList:\r\n",
        "        moFile.write(str(list) + ',')\r\n",
        "\r\n",
        "    moFile.write('\\n')\r\n",
        "\r\n",
        "\r\n",
        "def evaluateAlgorithm(train, test, k, oFile, woFile, moFile):\r\n",
        "    #distance = []\r\n",
        "    count = 0\r\n",
        "    wCount = 0\r\n",
        "    mCount = 0\r\n",
        "    for i in range(len(test)):\r\n",
        "        test_values = test[i]\r\n",
        "        distance = getDistance(test_values, train)\r\n",
        "        distance.sort()\r\n",
        "\r\n",
        "        prediction = getPrediction(distance, k)\r\n",
        "        mPrediction, wPrediction = weightedKnn(distance, k)\r\n",
        "        #oFile.write([str(x) + ',' for x in test_values] + ',' + prediction + '\\n')\r\n",
        "        List = [test_values, prediction]\r\n",
        "        wList = [test_values, wPrediction]\r\n",
        "        mList = [test_values, mPrediction]\r\n",
        "        writeInFile(List, wList, mList)\r\n",
        "\r\n",
        "\r\n",
        "\r\n",
        "\r\n",
        "        print(prediction + ' ' + test_values[-1])\r\n",
        "\r\n",
        "        if prediction == test_values[-1]:\r\n",
        "            count += 1\r\n",
        "\r\n",
        "        if wPrediction == test_values[-1]:\r\n",
        "            wCount += 1\r\n",
        "\r\n",
        "        if mPrediction == test_values[-1]:\r\n",
        "            mCount += 1\r\n",
        "\r\n",
        "    oFile.write('accuracy : ' + str(count / len(test)) + '\\n\\n')\r\n",
        "    woFile.write('accuracy : ' + str(wCount / len(test)) + '\\n\\n')\r\n",
        "    moFile.write('accuracy : ' + str(mCount / len(test)) + '\\n\\n')\r\n",
        "    print('\\n')\r\n",
        "\r\n",
        "    return count / len(test), wCount / len(test), mCount / len(test)\r\n",
        "\r\n",
        "\r\n",
        "if __name__ == '__main__':\r\n",
        "    fileName = 'G:\\\\5 th semester\\\\dbms2\\\\knn\\\\iris.txt'\r\n",
        "    oFile = open('outIris.txt', 'w')\r\n",
        "    woFile = open('weight.txt', 'w')\r\n",
        "    moFile = open('mWeight.txt', 'w')\r\n",
        "\r\n",
        "    file = open(fileName, 'r')\r\n",
        "    lines = file.readlines()\r\n",
        "    numberOfLines = len(lines)\r\n",
        "    print(numberOfLines)\r\n",
        "\r\n",
        "    data = []\r\n",
        "    i = 0\r\n",
        "    for line in lines:\r\n",
        "        values = line.split(',')\r\n",
        "        data.append(values)\r\n",
        "        i += 1\r\n",
        "\r\n",
        "    shuffle(data)\r\n",
        "    shuffledData = list.copy(data)\r\n",
        "    #print(data)\r\n",
        "\r\n",
        "    numberOfFold = int(input(\"number of fold: \"))\r\n",
        "    k = int(input('value of k: '))\r\n",
        "    percent = int(len(shuffledData) / numberOfFold)\r\n",
        "    accuracy = []\r\n",
        "    wAccuracy = []\r\n",
        "    mAccuracy = []\r\n",
        "\r\n",
        "    for i in range(numberOfFold):\r\n",
        "        start = i * percent\r\n",
        "        end = start + percent\r\n",
        "        test = shuffledData[start : end]\r\n",
        "        train = shuffledData[: start] + shuffledData[end-1:]\r\n",
        "        #print(test)\r\n",
        "        #print(train)\r\n",
        "        neutral, weight, mWeight = evaluateAlgorithm(train, test, k, oFile, woFile, moFile)\r\n",
        "        accuracy.append(neutral)\r\n",
        "        wAccuracy.append(weight)\r\n",
        "        mAccuracy.append(mWeight)\r\n",
        "\r\n",
        "    print(accuracy)\r\n",
        "    meanAccuracy = sum(accuracy) / len(accuracy)\r\n",
        "    print('mean accuracy : ', meanAccuracy)\r\n",
        "\r\n",
        "    print(wAccuracy)\r\n",
        "    w_meanAccuracy = sum(wAccuracy) / len(wAccuracy)\r\n",
        "    print('weighted mean accuracy : ', w_meanAccuracy)\r\n",
        "\r\n",
        "    print(mAccuracy)\r\n",
        "    m_meanAccuracy = sum(mAccuracy) / len(mAccuracy)\r\n",
        "    print('weighted mean accuracy : ', m_meanAccuracy)\r\n",
        "\r\n",
        "    file.close()\r\n",
        "    oFile.close()\r\n",
        "    woFile.close()\r\n",
        "    moFile.close()"
      ],
      "execution_count": null,
      "outputs": []
    },
    {
      "cell_type": "code",
      "metadata": {
        "id": "U9zuJnZED46y"
      },
      "source": [
        "def getPrediction(distance, k):\r\n",
        "    output_values = [dist[-1] for dist in distance[:k]]\r\n",
        "    #prediction = max(set(output_values), key=output_values.count)\r\n",
        "    return output_values #prediction"
      ],
      "execution_count": null,
      "outputs": []
    },
    {
      "cell_type": "code",
      "metadata": {
        "colab": {
          "base_uri": "https://localhost:8080/"
        },
        "id": "06_4loGv1_r5",
        "outputId": "93b2d7c8-e4a7-469e-bdc5-9cc301c859ec"
      },
      "source": [
        "print(array_ratings_np[0][0])"
      ],
      "execution_count": null,
      "outputs": [
        {
          "output_type": "stream",
          "text": [
            "4.0\n"
          ],
          "name": "stdout"
        }
      ]
    },
    {
      "cell_type": "code",
      "metadata": {
        "id": "4UKymBEFyRpU"
      },
      "source": [
        "def getDistance(movieIndex, train): #, train\r\n",
        "    #test = test[:len(test)-1]\r\n",
        "    distance = []\r\n",
        "\r\n",
        "    j = 0\r\n",
        "    for training in train:\r\n",
        "        x = 0\r\n",
        "        for i in range(len(training)):\r\n",
        "            x += (float(train[movieIndex][i]) - float(training[i])) ** 2\r\n",
        "        #print(training)\r\n",
        "        movie = movies.loc[j]['title'] #movies[movies['movieId'] == j+1].iloc[0]['title']\r\n",
        "        distance.append([x ** .5, movie])\r\n",
        "        j += 1\r\n",
        "\r\n",
        "    return distance\r\n"
      ],
      "execution_count": null,
      "outputs": []
    },
    {
      "cell_type": "code",
      "metadata": {
        "id": "HtC-gZPjnqWS"
      },
      "source": [
        "def evaluateAlgorithm(test, k, movieIndex):\r\n",
        "    #distance = []\r\n",
        "    #count = 0\r\n",
        "    #wCount = 0\r\n",
        "    #mCount = 0\r\n",
        "    #for i in range(len(array_ratings_np)):\r\n",
        "        # = test[i]\r\n",
        "    distance = getDistance(movieIndex, array_ratings_np) #, train\r\n",
        "    distance.sort()\r\n",
        "\r\n",
        "    prediction = getPrediction(distance, k)\r\n",
        "    print(prediction)\r\n",
        "    '''\r\n",
        "    mPrediction, wPrediction = weightedKnn(distance, k)\r\n",
        "    #oFile.write([str(x) + ',' for x in test_values] + ',' + prediction + '\\n')\r\n",
        "    List = [test_values, prediction]\r\n",
        "    wList = [test_values, wPrediction]\r\n",
        "    mList = [test_values, mPrediction]\r\n",
        "    writeInFile(List, wList, mList)\r\n",
        "\r\n",
        "\r\n",
        "\r\n",
        "\r\n",
        "    print(prediction + ' ' + test_values[-1])\r\n",
        "\r\n",
        "    if prediction == test_values[-1]:\r\n",
        "        count += 1\r\n",
        "\r\n",
        "    if wPrediction == test_values[-1]:\r\n",
        "        wCount += 1\r\n",
        "\r\n",
        "    if mPrediction == test_values[-1]:\r\n",
        "        mCount += 1\r\n",
        "\r\n",
        "    oFile.write('accuracy : ' + str(count / len(test)) + '\\n\\n')\r\n",
        "    woFile.write('accuracy : ' + str(wCount / len(test)) + '\\n\\n')\r\n",
        "    moFile.write('accuracy : ' + str(mCount / len(test)) + '\\n\\n')\r\n",
        "    print('\\n')\r\n",
        "\r\n",
        "    return count / len(test), wCount / len(test), mCount / len(test)\r\n",
        "    '''"
      ],
      "execution_count": null,
      "outputs": []
    },
    {
      "cell_type": "code",
      "metadata": {
        "id": "OF9I2yCfkxx7",
        "colab": {
          "base_uri": "https://localhost:8080/"
        },
        "outputId": "2419bafc-f73d-4f7e-ccca-82d7436174e6"
      },
      "source": [
        "test = input('enter a movie name with release year (e.g. Toy Story (1995)) ')\r\n",
        "k = int(input('expected number of recommendations '))\r\n",
        "\r\n",
        "#movieId = movies[movies['movieId'] == test].iloc[0]['movieid']\r\n",
        "\r\n"
      ],
      "execution_count": null,
      "outputs": [
        {
          "output_type": "stream",
          "text": [
            "enter a movie name with release year (e.g. Toy Story (1995)) Superman (1978)\n",
            "expected number of recommendations 10\n"
          ],
          "name": "stdout"
        }
      ]
    },
    {
      "cell_type": "code",
      "metadata": {
        "colab": {
          "base_uri": "https://localhost:8080/"
        },
        "id": "dfCH3IlyCEpR",
        "outputId": "987480be-886b-456d-d635-552e015b0886"
      },
      "source": [
        "import string\r\n",
        "s = string.capwords('The BOSS baby')\r\n",
        "print(s)"
      ],
      "execution_count": 1,
      "outputs": [
        {
          "output_type": "stream",
          "text": [
            "The Boss Baby\n"
          ],
          "name": "stdout"
        }
      ]
    },
    {
      "cell_type": "code",
      "metadata": {
        "colab": {
          "base_uri": "https://localhost:8080/"
        },
        "id": "EqUrNkQB7ZAY",
        "outputId": "bff73576-8349-411b-cb3f-93646144104e"
      },
      "source": [
        "print(movies.index[movies['title'] == test].tolist()[0])"
      ],
      "execution_count": null,
      "outputs": [
        {
          "output_type": "stream",
          "text": [
            "1986\n"
          ],
          "name": "stdout"
        }
      ]
    },
    {
      "cell_type": "code",
      "metadata": {
        "colab": {
          "base_uri": "https://localhost:8080/"
        },
        "id": "28J7rJRSt-0A",
        "outputId": "52e7e02b-96c3-4cb0-c6c6-e2786a9239a4"
      },
      "source": [
        "movieIndex = movies.index[movies['title'] == test].tolist()[0] #movies[movies['title'] == test].to_numpy()\r\n",
        "print(movieIndex)\r\n",
        "evaluateAlgorithm(test, k, movieIndex)"
      ],
      "execution_count": null,
      "outputs": [
        {
          "output_type": "stream",
          "text": [
            "1986\n",
            "['Superman (1978)', 'Superman II (1980)', 'Superman III (1983)', 'Pale Rider (1985)', 'Women on the Verge of a Nervous Breakdown (Mujeres al borde de un ataque de nervios) (1988)', 'Virus (1999)', 'Timecop (1994)', 'Madeline (1998)', \"National Lampoon's Vacation (1983)\", 'Clue (1985)']\n"
          ],
          "name": "stdout"
        }
      ]
    },
    {
      "cell_type": "code",
      "metadata": {
        "colab": {
          "background_save": true
        },
        "id": "m-03XamQr73I"
      },
      "source": [
        "if __name__ == '__main__':\r\n",
        "    #fileName = 'G:\\\\5 th semester\\\\dbms2\\\\knn\\\\iris.txt'\r\n",
        "    #oFile = open('outIris.txt', 'w')\r\n",
        "    #woFile = open('weight.txt', 'w')\r\n",
        "    #moFile = open('mWeight.txt', 'w')\r\n",
        "\r\n",
        "    #file = open(fileName, 'r')\r\n",
        "    #lines = file.readlines()\r\n",
        "    #numberOfLines = len(lines)\r\n",
        "    #print(numberOfLines)\r\n",
        "    '''\r\n",
        "    data = []\r\n",
        "    i = 0\r\n",
        "    for line in lines:\r\n",
        "        values = line.split(',')\r\n",
        "        data.append(values)\r\n",
        "        i += 1\r\n",
        "\r\n",
        "    shuffle(data)\r\n",
        "    shuffledData = list.copy(data)\r\n",
        "    #print(data)\r\n",
        "\r\n",
        "    numberOfFold = int(input(\"number of fold: \"))\r\n",
        "    '''\r\n",
        "    k = int(input('value of k: '))\r\n",
        "    percent = int(len(shuffledData) / numberOfFold)\r\n",
        "    accuracy = []\r\n",
        "    wAccuracy = []\r\n",
        "    mAccuracy = []\r\n",
        "\r\n",
        "    for i in range(numberOfFold):\r\n",
        "        start = i * percent\r\n",
        "        end = start + percent\r\n",
        "        test = shuffledData[start : end]\r\n",
        "        train = shuffledData[: start] + shuffledData[end-1:]\r\n",
        "        #print(test)\r\n",
        "        #print(train)\r\n",
        "        neutral, weight, mWeight = evaluateAlgorithm(train, test, k, oFile, woFile, moFile)\r\n",
        "        accuracy.append(neutral)\r\n",
        "        wAccuracy.append(weight)\r\n",
        "        mAccuracy.append(mWeight)\r\n",
        "\r\n",
        "    print(accuracy)\r\n",
        "    meanAccuracy = sum(accuracy) / len(accuracy)\r\n",
        "    print('mean accuracy : ', meanAccuracy)\r\n",
        "\r\n",
        "    print(wAccuracy)\r\n",
        "    w_meanAccuracy = sum(wAccuracy) / len(wAccuracy)\r\n",
        "    print('weighted mean accuracy : ', w_meanAccuracy)\r\n",
        "\r\n",
        "    print(mAccuracy)\r\n",
        "    m_meanAccuracy = sum(mAccuracy) / len(mAccuracy)\r\n",
        "    print('weighted mean accuracy : ', m_meanAccuracy)\r\n",
        "\r\n",
        "    file.close()\r\n",
        "    oFile.close()\r\n",
        "    woFile.close()\r\n",
        "    moFile.close()"
      ],
      "execution_count": null,
      "outputs": []
    }
  ]
}